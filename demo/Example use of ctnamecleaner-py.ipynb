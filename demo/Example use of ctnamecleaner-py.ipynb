{
 "cells": [
  {
   "cell_type": "markdown",
   "metadata": {},
   "source": [
    "# Example of ctlookup\n",
    "\n",
    "ctlookup translates Connecticut village names to their proper town name."
   ]
  },
  {
   "cell_type": "code",
   "execution_count": 6,
   "metadata": {
    "collapsed": true
   },
   "outputs": [],
   "source": [
    "import pandas as pd\n",
    "from ctlookup import lookup\n",
    "\n",
    "def sample_df():\n",
    "    return pd.DataFrame([[\"New Preston\",1,2],\n",
    "                      [\"Marbledale\",110,23],\n",
    "                      [\"Bridgeport\",100,97],\n",
    "                      [\"B_water\",12,44]\n",
    "                     ],\n",
    "                     columns=[\"TOWN\",\"POP\",\"GDP\"])\n",
    "\n",
    "tmpdf = sample_df()\n",
    "\n",
    "# Force re-download of lookup table. Slower and requires internet connection.\n",
    "l = lookup.Lookup(use_inet_csv=True)\n",
    "# Standard usage\n",
    "l = lookup.Lookup()\n"
   ]
  },
  {
   "cell_type": "code",
   "execution_count": 7,
   "metadata": {
    "collapsed": false
   },
   "outputs": [
    {
     "data": {
      "text/html": [
       "<div>\n",
       "<table border=\"1\" class=\"dataframe\">\n",
       "  <thead>\n",
       "    <tr style=\"text-align: right;\">\n",
       "      <th></th>\n",
       "      <th>TOWN</th>\n",
       "      <th>POP</th>\n",
       "      <th>GDP</th>\n",
       "    </tr>\n",
       "  </thead>\n",
       "  <tbody>\n",
       "    <tr>\n",
       "      <th>0</th>\n",
       "      <td>New Preston</td>\n",
       "      <td>1</td>\n",
       "      <td>2</td>\n",
       "    </tr>\n",
       "    <tr>\n",
       "      <th>1</th>\n",
       "      <td>Marbledale</td>\n",
       "      <td>110</td>\n",
       "      <td>23</td>\n",
       "    </tr>\n",
       "    <tr>\n",
       "      <th>2</th>\n",
       "      <td>Bridgeport</td>\n",
       "      <td>100</td>\n",
       "      <td>97</td>\n",
       "    </tr>\n",
       "    <tr>\n",
       "      <th>3</th>\n",
       "      <td>B_water</td>\n",
       "      <td>12</td>\n",
       "      <td>44</td>\n",
       "    </tr>\n",
       "  </tbody>\n",
       "</table>\n",
       "</div>"
      ],
      "text/plain": [
       "          TOWN  POP  GDP\n",
       "0  New Preston    1    2\n",
       "1   Marbledale  110   23\n",
       "2   Bridgeport  100   97\n",
       "3      B_water   12   44"
      ]
     },
     "execution_count": 7,
     "metadata": {},
     "output_type": "execute_result"
    }
   ],
   "source": [
    "tmpdf"
   ]
  },
  {
   "cell_type": "code",
   "execution_count": 8,
   "metadata": {
    "collapsed": false
   },
   "outputs": [
    {
     "data": {
      "text/html": [
       "<div>\n",
       "<table border=\"1\" class=\"dataframe\">\n",
       "  <thead>\n",
       "    <tr style=\"text-align: right;\">\n",
       "      <th></th>\n",
       "      <th>TOWN</th>\n",
       "      <th>POP</th>\n",
       "      <th>GDP</th>\n",
       "      <th>TOWN_REAL</th>\n",
       "    </tr>\n",
       "  </thead>\n",
       "  <tbody>\n",
       "    <tr>\n",
       "      <th>0</th>\n",
       "      <td>New Preston</td>\n",
       "      <td>1</td>\n",
       "      <td>2</td>\n",
       "      <td>WASHINGTON</td>\n",
       "    </tr>\n",
       "    <tr>\n",
       "      <th>1</th>\n",
       "      <td>Marbledale</td>\n",
       "      <td>110</td>\n",
       "      <td>23</td>\n",
       "      <td>WASHINGTON</td>\n",
       "    </tr>\n",
       "    <tr>\n",
       "      <th>2</th>\n",
       "      <td>Bridgeport</td>\n",
       "      <td>100</td>\n",
       "      <td>97</td>\n",
       "      <td>BRIDGEPORT</td>\n",
       "    </tr>\n",
       "    <tr>\n",
       "      <th>3</th>\n",
       "      <td>B_water</td>\n",
       "      <td>12</td>\n",
       "      <td>44</td>\n",
       "      <td>NaN</td>\n",
       "    </tr>\n",
       "  </tbody>\n",
       "</table>\n",
       "</div>"
      ],
      "text/plain": [
       "          TOWN  POP  GDP   TOWN_REAL\n",
       "0  New Preston    1    2  WASHINGTON\n",
       "1   Marbledale  110   23  WASHINGTON\n",
       "2   Bridgeport  100   97  BRIDGEPORT\n",
       "3      B_water   12   44         NaN"
      ]
     },
     "execution_count": 8,
     "metadata": {},
     "output_type": "execute_result"
    }
   ],
   "source": [
    "l.clean_dataframe(tmpdf,\"TOWN\")\n",
    "tmpdf[\"TOWN_REAL\"] = l.clean_dataframe(tmpdf,\"TOWN\")\n",
    "tmpdf"
   ]
  },
  {
   "cell_type": "code",
   "execution_count": 9,
   "metadata": {
    "collapsed": false
   },
   "outputs": [
    {
     "data": {
      "text/html": [
       "<div>\n",
       "<table border=\"1\" class=\"dataframe\">\n",
       "  <thead>\n",
       "    <tr style=\"text-align: right;\">\n",
       "      <th></th>\n",
       "      <th>TOWN</th>\n",
       "      <th>POP</th>\n",
       "      <th>GDP</th>\n",
       "    </tr>\n",
       "  </thead>\n",
       "  <tbody>\n",
       "    <tr>\n",
       "      <th>0</th>\n",
       "      <td>WASHINGTON</td>\n",
       "      <td>1</td>\n",
       "      <td>2</td>\n",
       "    </tr>\n",
       "    <tr>\n",
       "      <th>1</th>\n",
       "      <td>WASHINGTON</td>\n",
       "      <td>110</td>\n",
       "      <td>23</td>\n",
       "    </tr>\n",
       "    <tr>\n",
       "      <th>2</th>\n",
       "      <td>BRIDGEPORT</td>\n",
       "      <td>100</td>\n",
       "      <td>97</td>\n",
       "    </tr>\n",
       "    <tr>\n",
       "      <th>3</th>\n",
       "      <td>NaN</td>\n",
       "      <td>12</td>\n",
       "      <td>44</td>\n",
       "    </tr>\n",
       "  </tbody>\n",
       "</table>\n",
       "</div>"
      ],
      "text/plain": [
       "         TOWN  POP  GDP\n",
       "0  WASHINGTON    1    2\n",
       "1  WASHINGTON  110   23\n",
       "2  BRIDGEPORT  100   97\n",
       "3         NaN   12   44"
      ]
     },
     "execution_count": 9,
     "metadata": {},
     "output_type": "execute_result"
    }
   ],
   "source": [
    "# Replace in place\n",
    "tmpdf = sample_df()\n",
    "\n",
    "l.clean_dataframe(tmpdf,\"TOWN\")\n",
    "tmpdf[\"TOWN\"] = l.clean_dataframe(tmpdf,\"TOWN\")\n",
    "tmpdf"
   ]
  },
  {
   "cell_type": "code",
   "execution_count": 10,
   "metadata": {
    "collapsed": false
   },
   "outputs": [
    {
     "data": {
      "text/html": [
       "<div>\n",
       "<table border=\"1\" class=\"dataframe\">\n",
       "  <thead>\n",
       "    <tr style=\"text-align: right;\">\n",
       "      <th></th>\n",
       "      <th>TOWN</th>\n",
       "      <th>POP</th>\n",
       "      <th>GDP</th>\n",
       "      <th>TOWN_REAL</th>\n",
       "    </tr>\n",
       "  </thead>\n",
       "  <tbody>\n",
       "    <tr>\n",
       "      <th>0</th>\n",
       "      <td>New Preston</td>\n",
       "      <td>1</td>\n",
       "      <td>2</td>\n",
       "      <td>WASHINGTON</td>\n",
       "    </tr>\n",
       "    <tr>\n",
       "      <th>1</th>\n",
       "      <td>Marbledale</td>\n",
       "      <td>110</td>\n",
       "      <td>23</td>\n",
       "      <td>WASHINGTON</td>\n",
       "    </tr>\n",
       "    <tr>\n",
       "      <th>2</th>\n",
       "      <td>Bridgeport</td>\n",
       "      <td>100</td>\n",
       "      <td>97</td>\n",
       "      <td>BRIDGEPORT</td>\n",
       "    </tr>\n",
       "    <tr>\n",
       "      <th>3</th>\n",
       "      <td>B_water</td>\n",
       "      <td>12</td>\n",
       "      <td>44</td>\n",
       "      <td>NOT FOUND</td>\n",
       "    </tr>\n",
       "  </tbody>\n",
       "</table>\n",
       "</div>"
      ],
      "text/plain": [
       "          TOWN  POP  GDP   TOWN_REAL\n",
       "0  New Preston    1    2  WASHINGTON\n",
       "1   Marbledale  110   23  WASHINGTON\n",
       "2   Bridgeport  100   97  BRIDGEPORT\n",
       "3      B_water   12   44   NOT FOUND"
      ]
     },
     "execution_count": 10,
     "metadata": {},
     "output_type": "execute_result"
    }
   ],
   "source": [
    "# Custom error value\n",
    "tmpdf = sample_df()\n",
    "\n",
    "tmpdf[\"TOWN_REAL\"] = \\\n",
    "l.clean_dataframe(tmpdf,\n",
    "                  \"TOWN\",\n",
    "                  error=\"NOT FOUND\")\n",
    "tmpdf"
   ]
  },
  {
   "cell_type": "code",
   "execution_count": null,
   "metadata": {
    "collapsed": true
   },
   "outputs": [],
   "source": []
  },
  {
   "cell_type": "code",
   "execution_count": null,
   "metadata": {
    "collapsed": true
   },
   "outputs": [],
   "source": []
  },
  {
   "cell_type": "code",
   "execution_count": null,
   "metadata": {
    "collapsed": true
   },
   "outputs": [],
   "source": []
  }
 ],
 "metadata": {
  "kernelspec": {
   "display_name": "Python 2",
   "language": "python",
   "name": "python2"
  },
  "language_info": {
   "codemirror_mode": {
    "name": "ipython",
    "version": 2
   },
   "file_extension": ".py",
   "mimetype": "text/x-python",
   "name": "python",
   "nbconvert_exporter": "python",
   "pygments_lexer": "ipython2",
   "version": "2.7.11"
  }
 },
 "nbformat": 4,
 "nbformat_minor": 0
}
